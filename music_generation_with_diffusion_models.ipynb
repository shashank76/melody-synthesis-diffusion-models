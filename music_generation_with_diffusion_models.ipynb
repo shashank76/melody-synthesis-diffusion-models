{
  "nbformat": 4,
  "nbformat_minor": 0,
  "metadata": {
    "colab": {
      "private_outputs": true,
      "provenance": [],
      "authorship_tag": "ABX9TyON/SxMjfnqwCyWk0Lgw8rp",
      "include_colab_link": true
    },
    "kernelspec": {
      "name": "python3",
      "display_name": "Python 3"
    },
    "language_info": {
      "name": "python"
    }
  },
  "cells": [
    {
      "cell_type": "markdown",
      "metadata": {
        "id": "view-in-github",
        "colab_type": "text"
      },
      "source": [
        "<a href=\"https://colab.research.google.com/github/shashank76/melody-synthesis-diffusion-models/blob/main/music_generation_with_diffusion_models.ipynb\" target=\"_parent\"><img src=\"https://colab.research.google.com/assets/colab-badge.svg\" alt=\"Open In Colab\"/></a>"
      ]
    },
    {
      "cell_type": "markdown",
      "source": [
        "Installing required libraries\n"
      ],
      "metadata": {
        "id": "hGd9gG00xLr3"
      }
    },
    {
      "cell_type": "code",
      "execution_count": null,
      "metadata": {
        "id": "19hTmMGOuVsT"
      },
      "outputs": [],
      "source": [
        "!pip install diffusers transformers ftfy scipy"
      ]
    },
    {
      "cell_type": "code",
      "source": [
        "import torch\n",
        "from diffusers import AudioLDMPipeline\n",
        "from IPython.display import Audio\n",
        "import soundfile as sf"
      ],
      "metadata": {
        "id": "yNLdad9TuuKT"
      },
      "execution_count": null,
      "outputs": []
    },
    {
      "cell_type": "markdown",
      "source": [
        "Initializing audio pipelining to generate audio using diffusion model"
      ],
      "metadata": {
        "id": "M8duryt8xnzD"
      }
    },
    {
      "cell_type": "code",
      "source": [
        "pipe = AudioLDMPipeline.from_pretrained(\"cvssp/audioldm-s-full-v2\", torch_dtype=torch.float16).to('cpu')"
      ],
      "metadata": {
        "id": "2xA3nr0OveuT"
      },
      "execution_count": null,
      "outputs": []
    },
    {
      "cell_type": "markdown",
      "source": [
        "Provide audio prompt for required audio generation and other required and optional parameters\n"
      ],
      "metadata": {
        "id": "4r4HQ0TdyF7I"
      }
    },
    {
      "cell_type": "code",
      "source": [
        "audio_prompt = \"Sing the song 'Perfect' performed by a female vocalist, accompanied by gentle guitar background music and soft piano harmonies.\"\n",
        "steps = 10\n",
        "duration_in_seconds = 10\n",
        "guidance_scale = 2.5\n",
        "negative_prompt = \"low quality, noisy\""
      ],
      "metadata": {
        "id": "o5suZ_6iwEqX"
      },
      "execution_count": null,
      "outputs": []
    },
    {
      "cell_type": "markdown",
      "source": [
        "Generate audio using above mentioned prompt"
      ],
      "metadata": {
        "id": "3mV7kdwAySdZ"
      }
    },
    {
      "cell_type": "code",
      "source": [
        "audio_generator = torch.Generator('cpu').manual_seed(1)\n",
        "output_path = \"/content/generated_audio.wav\"\n",
        "\n",
        "waveform = pipe(prompt=audio_prompt, audio_length_in_s=duration_in_seconds, num_inference_steps=steps, guidance_scale=guidance_scale, negative_prompt=negative_prompt, generator=audio_generator)\n",
        "\n",
        "sf.write(output_path, waveform, samplerate=22050)\n",
        "\n",
        "display(Audio(output_path))\n"
      ],
      "metadata": {
        "id": "dmOVBSt2yQDQ"
      },
      "execution_count": null,
      "outputs": []
    }
  ]
}